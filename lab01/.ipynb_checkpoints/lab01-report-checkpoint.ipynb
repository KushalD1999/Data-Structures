{
 "cells": [
  {
   "cell_type": "markdown",
   "metadata": {},
   "source": [
    "## CPS305 Fall 2019\n",
    "## Lab $01$ Report\n",
    "## Kushal Dalal, Std ID 500828585\n",
    "\n",
    "07 September 2019\n",
    "\n",
    "# Introduction and Overall Comments\n",
    "This is a submission from Kushal Dalal of LAB01 for CPS 305"
   ]
  },
  {
   "cell_type": "markdown",
   "metadata": {},
   "source": [
    "## Solution for exercise 1"
   ]
  },
  {
   "cell_type": "code",
   "execution_count": 9,
   "metadata": {},
   "outputs": [
    {
     "name": "stdout",
     "output_type": "stream",
     "text": [
      "          String                   Iteration                  Score\n",
      "methmxkajrc ykkydcdsuqeymzbt          100               14.285714285714285\n",
      "methinks itmpxjotdgocqsnuqcc          200               39.285714285714285\n",
      "methinks it is likehpouzeayq          300               67.85714285714286\n",
      "methinks it is like a wefzvp          400               85.71428571428571\n",
      "methinks it is like a wease           500               96.42857142857143\n",
      "methinks it is like a weasel          503               100.0\n"
     ]
    },
    {
     "data": {
      "image/png": "[encoded data removed]",
      "text/plain": [
       "<Figure size 432x288 with 1 Axes>"
      ]
     },
     "metadata": {
      "needs_background": "light"
     },
     "output_type": "display_data"
    }
   ],
   "source": [
    "# Python code and its output\n",
    "from mySolution import monkeyTypist\n",
    "monkeyTypist()"
   ]
  }
 ],
 "metadata": {
  "kernelspec": {
   "display_name": "Python 3",
   "language": "python",
   "name": "python3"
  },
  "language_info": {
   "codemirror_mode": {
    "name": "ipython",
    "version": 3
   },
   "file_extension": ".py",
   "mimetype": "text/x-python",
   "name": "python",
   "nbconvert_exporter": "python",
   "pygments_lexer": "ipython3",
   "version": "3.6.6"
  },
  "latex_envs": {
   "LaTeX_envs_menu_present": true,
   "autoclose": false,
   "autocomplete": true,
   "bibliofile": "biblio.bib",
   "cite_by": "apalike",
   "current_citInitial": 1,
   "eqLabelWithNumbers": true,
   "eqNumInitial": 1,
   "hotkeys": {
    "equation": "Ctrl-E",
    "itemize": "Ctrl-I"
   },
   "labels_anchors": false,
   "latex_user_defs": false,
   "report_style_numbering": false,
   "user_envs_cfg": false
  }
 },
 "nbformat": 4,
 "nbformat_minor": 2
}
