{
 "cells": [
  {
   "cell_type": "markdown",
   "metadata": {},
   "source": [
    "# CPS305 Fall 2019\n",
    "## Lab $06$ Report\n",
    "## Kushal Dalal, Std ID 500828585\n",
    "\n",
    "27 October 2019\n",
    "\n",
    "# Lab 06\n",
    "\n",
    "This is the submission of Kushal Dalal's lab "
   ]
  },
  {
   "cell_type": "markdown",
   "metadata": {},
   "source": [
    "**Briefly describing the experimental setpup**\n",
    "\n",
    "I created a method called mo3_quicksort which chooses the pivot of median of 3. The setup that i chose is that I created a helper method called \"helper_mo3_quickSort\" which finds the median of the first, the middle, and the last element. After finding the median, i swap that median element with the element at index 0 of the list. After that, I used the same quicksort solution used in the textbook.\n",
    "\n"
   ]
  },
  {
   "cell_type": "markdown",
   "metadata": {},
   "source": [
    "## Solution for the Exercise"
   ]
  },
  {
   "cell_type": "code",
   "execution_count": 14,
   "metadata": {},
   "outputs": [
    {
     "data": {
      "image/png": "[encoded data removed]",
      "text/plain": [
       "<Figure size 432x288 with 1 Axes>"
      ]
     },
     "metadata": {
      "needs_background": "light"
     },
     "output_type": "display_data"
    }
   ],
   "source": [
    "import random\n",
    "import timeit\n",
    "import matplotlib.pyplot as plt \n",
    "\n",
    "mo3_List = []\n",
    "normal_List = []\n",
    "commonList1 = []\n",
    "commonList2 = []\n",
    "\n",
    "\n",
    "def m03_quickSort(alist):\n",
    "    mo3_quickSortHelper(alist,0,len(alist)-1)\n",
    "\n",
    "def mo3_quickSortHelper(alist,first,last):\n",
    "    \n",
    "    if first<last:\n",
    "        splitpoint = m03_partition(alist,first,last)\n",
    "        mo3_quickSortHelper(alist,first,splitpoint-1)\n",
    "        mo3_quickSortHelper(alist,splitpoint+1,last)\n",
    "\n",
    "def helper_mo3_quickSort(listA,first,last):\n",
    "    ret=0\n",
    "    if(((listA[last]-listA[first])*(listA[(last-first)//2]-listA[last])) >= 0):\n",
    "        ret=last\n",
    "    elif(((listA[first]-listA[last])*(listA[(last-first)//2]-listA[first])) >= 0):\n",
    "        ret=first\n",
    "    else:\n",
    "        ret=(last-first)//2\n",
    "    return ret\n",
    "    \n",
    "def m03_partition(alist,first,last):\n",
    "        \n",
    "    #pivotvalue = alist[first]\n",
    "    pivotvalue = helper_mo3_quickSort(alist,first,last)\n",
    "    alist[first],alist[pivotvalue] = alist[pivotvalue], alist[first]\n",
    "    \n",
    "    leftmark = first+1\n",
    "    rightmark = last\n",
    " \n",
    "    done = False\n",
    "    while not done:\n",
    "        while leftmark <= rightmark and alist[leftmark] <= alist[first]:\n",
    "            leftmark = leftmark + 1\n",
    "        \n",
    "        while alist[rightmark] >= alist[first] and rightmark >= leftmark:\n",
    "            rightmark = rightmark -1\n",
    "        \n",
    "        if rightmark < leftmark:\n",
    "            done = True\n",
    "        else:\n",
    "            temp = alist[leftmark]\n",
    "            alist[leftmark] = alist[rightmark]\n",
    "            alist[rightmark] = temp\n",
    "    \n",
    "    temp = alist[first]\n",
    "    alist[first] = alist[rightmark]\n",
    "    alist[rightmark] = temp\n",
    "\n",
    "\n",
    "    return rightmark\n",
    "\n",
    "\n",
    "for i in range(0,10000, 100):\n",
    "    \n",
    "    getTime = timeit.Timer(\"m03_quickSort(alist)\", \n",
    "                           \"from __main__ import random, m03_quickSort, alist\")\n",
    "    \n",
    "    alist = random.sample(range(1, 11000), i)\n",
    "    result = getTime.timeit(number=1)\n",
    "    commonList1.append(i)        \n",
    "    mo3_List.append(result)    \n",
    "\n",
    "#---------------------------------------------Normal QuickSort ---------------------------------------------\n",
    "def quickSort(alist):\n",
    "    quickSortHelper(alist,0,len(alist)-1)\n",
    "\n",
    "def quickSortHelper(alist,first,last):\n",
    "    \n",
    "    if first<last:\n",
    "        splitpoint = normal_partition(alist,first,last)\n",
    "        quickSortHelper(alist,first,splitpoint-1)\n",
    "        quickSortHelper(alist,splitpoint+1,last)\n",
    "\n",
    "def normal_partition(alist,first,last):\n",
    "            \n",
    "    leftmark = first+1\n",
    "    rightmark = last\n",
    " \n",
    "    done = False\n",
    "    while not done:\n",
    "        while leftmark <= rightmark and alist[leftmark] <= alist[first]:\n",
    "            leftmark = leftmark + 1\n",
    "        \n",
    "        while alist[rightmark] >= alist[first] and rightmark >= leftmark:\n",
    "            rightmark = rightmark -1\n",
    "        \n",
    "        if rightmark < leftmark:\n",
    "            done = True\n",
    "        else:\n",
    "            temp = alist[leftmark]\n",
    "            alist[leftmark] = alist[rightmark]\n",
    "            alist[rightmark] = temp\n",
    "    \n",
    "    temp = alist[first]\n",
    "    alist[first] = alist[rightmark]\n",
    "    alist[rightmark] = temp\n",
    "\n",
    "    return rightmark\n",
    "    \n",
    "\n",
    "for i in range(0,10000,100):\n",
    "    \n",
    "    getTime = timeit.Timer(\"quickSort(alist2)\", \n",
    "                           \"from __main__ import random, quickSort, alist2\")\n",
    "    \n",
    "    alist2 = random.sample(range(1, 11000), i)\n",
    "    result2 = getTime.timeit(number=1)\n",
    "    commonList2.append(i)        \n",
    "    normal_List.append(result2)\n",
    "\n",
    "\n",
    "mo3QuickSortItem = plt.plot(commonList1,mo3_List, \"ro\", label='mo3_quicksort')\n",
    "normalQuickSortItem = plt.plot(commonList2,normal_List, \"g^\", label='normal quicksort')\n",
    "plt.legend()\n",
    "plt.show()\n"
   ]
  },
  {
   "cell_type": "markdown",
   "metadata": {},
   "source": [
    "**Discussion of the Results**\n",
    "\n",
    "The following graph shows that choosing the median as a pivot is same efficient and faster in time as choosing the first element always as a pivot in the unsorted list. "
   ]
  }
 ],
 "metadata": {
  "kernelspec": {
   "display_name": "Python 3",
   "language": "python",
   "name": "python3"
  },
  "language_info": {
   "codemirror_mode": {
    "name": "ipython",
    "version": 3
   },
   "file_extension": ".py",
   "mimetype": "text/x-python",
   "name": "python",
   "nbconvert_exporter": "python",
   "pygments_lexer": "ipython3",
   "version": "3.6.6"
  },
  "latex_envs": {
   "LaTeX_envs_menu_present": true,
   "autoclose": false,
   "autocomplete": true,
   "bibliofile": "biblio.bib",
   "cite_by": "apalike",
   "current_citInitial": 1,
   "eqLabelWithNumbers": true,
   "eqNumInitial": 1,
   "hotkeys": {
    "equation": "Ctrl-E",
    "itemize": "Ctrl-I"
   },
   "labels_anchors": false,
   "latex_user_defs": false,
   "report_style_numbering": false,
   "user_envs_cfg": false
  }
 },
 "nbformat": 4,
 "nbformat_minor": 2
}
