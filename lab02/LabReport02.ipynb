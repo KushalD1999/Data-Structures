{
 "cells": [
  {
   "cell_type": "markdown",
   "metadata": {},
   "source": [
    "# CPS305 Fall 2019\n",
    "## Lab $02$ Report\n",
    "## KUSHAL DALAL, Student ID 500828585\n",
    "\n",
    "17 September 2019\n",
    "\n",
    "# Introduction and Overall Comments\n",
    "\n",
    "This is the submission of LAB02 Algorithm Analysis for Kushal Dalal."
   ]
  },
  {
   "cell_type": "markdown",
   "metadata": {},
   "source": [
    "## Solution for exercise 1"
   ]
  },
  {
   "cell_type": "code",
   "execution_count": 9,
   "metadata": {},
   "outputs": [
    {
     "data": {
      "image/png": "[encoded data removed]",
      "text/plain": [
       "<Figure size 432x288 with 1 Axes>"
      ]
     },
     "metadata": {
      "needs_background": "light"
     },
     "output_type": "display_data"
    }
   ],
   "source": [
    "# Python code and its output\n",
    "import matplotlib.pyplot as plt \n",
    "import timeit\n",
    "import random\n",
    "\n",
    "getList = []\n",
    "updateList = []\n",
    "commonList1 = []\n",
    "commonList2 = []\n",
    "\n",
    "for i in range(10000,1000001,20000):\n",
    "    \n",
    "    getTime = timeit.Timer(\"dictA.get(random.randrange(%d))\" %i, \n",
    "                           \"from __main__ import random, dictA\")\n",
    "    dictA = {key:key for key in range(i)}\n",
    "    \n",
    "    getResult = getTime.timeit(number=10000)\n",
    "    commonList1.append(i)    \n",
    "    getList.append(getResult)\n",
    "    #print(i, getResult)\n",
    "\n",
    "dictB = {}\n",
    "for i in range(10000,1000001,20000):\n",
    "    dictB = {key:None for key in range(i)}    \n",
    "    updateDict = {random.randrange(i):\"updated\"}\n",
    "    updateTime = timeit.Timer(\"dictB.update(updateDict)\",\n",
    "                              \"from __main__ import random, dictB, updateDict\")\n",
    "    updateResult = updateTime.timeit(number=10000)\n",
    "    commonList2.append(i)        \n",
    "    updateList.append(updateResult)\n",
    "    #print(i, updateResult)\n",
    "    \n",
    "getItem = plt.plot(commonList1,getList, \"ro\", label='get item')\n",
    "updateItem = plt.plot(commonList2,updateList, \"g^\", label='update item')\n",
    "plt.legend()\n",
    "plt.show()"
   ]
  },
  {
   "cell_type": "markdown",
   "metadata": {},
   "source": [
    "**Discussion of the Results**\n",
    "\n",
    "The following program and graph measures/shows the time complexity of the 'get' and 'update' item operation from dictionary. The time complexity from the graph shows that, for both the operations (considering the larger data sets) is O(1), constant time. Although, both the operations are O(1), the 'update' item is more efficient than 'get' item operation. It is because the 'update' item takes less of a constant time than 'get' operation for the same number of the data set."
   ]
  },
  {
   "cell_type": "markdown",
   "metadata": {},
   "source": [
    "## Solution for Exercise 2"
   ]
  },
  {
   "cell_type": "code",
   "execution_count": 10,
   "metadata": {
    "scrolled": true
   },
   "outputs": [
    {
     "data": {
      "image/png": "[encoded data removed]",
      "text/plain": [
       "<Figure size 432x288 with 1 Axes>"
      ]
     },
     "metadata": {
      "needs_background": "light"
     },
     "output_type": "display_data"
    }
   ],
   "source": [
    "# Python code and its output\n",
    "    \n",
    "delDict = []\n",
    "delList = []\n",
    "commonList3 = []\n",
    "commonList4 = []\n",
    "\n",
    "for i in range(10000,1000001,20000):\n",
    "    dictC = {key:None for key in range(i)}  \n",
    "    delDictTime = timeit.Timer(\"del dictC[random.randrange(%d)]\"%i, \n",
    "                           \"from __main__ import random, dictC\")    \n",
    "    delDictResult = delDictTime.timeit(number=10)\n",
    "    commonList3.append(i)            \n",
    "    delDict.append(delDictResult)   \n",
    "    #print(i, delDictResult)\n",
    "    \n",
    "\n",
    "for i in range(10000,1000001,20000):\n",
    "    listD = [key for key in range(i)]    \n",
    "    delListTime = timeit.Timer(\"del listD[random.randrange(%d)]\"%i, \n",
    "                           \"from __main__ import random, listD\")\n",
    "    \n",
    "    delListResult = delListTime.timeit(number=10)\n",
    "    commonList4.append(i)        \n",
    "    delList.append(delListResult)       \n",
    "    #print(i, delListResult)\n",
    "\n",
    "plt.plot(commonList3,delDict, \"r^\", label='del Dict item')\n",
    "plt.plot(commonList4,delList, \"go\", label='del List item')\n",
    "plt.legend()\n",
    "plt.show()"
   ]
  },
  {
   "cell_type": "markdown",
   "metadata": {},
   "source": [
    "**Discussion of the Results**\n",
    "\n",
    "The following program and graph measures and shows the time complexity of the 'del' operation for dictionary and list. The time complexity from the graph shows that, for the dictionaries (considering the larger data sets) it is O(1), constant time. But for the lists 'del' operation, it takes the time complexity of O(n), linear. So dictionaries 'del' operation is more efficients than lists considering the aspect of time complexity."
   ]
  }
 ],
 "metadata": {
  "kernelspec": {
   "display_name": "Python 3",
   "language": "python",
   "name": "python3"
  },
  "language_info": {
   "codemirror_mode": {
    "name": "ipython",
    "version": 3
   },
   "file_extension": ".py",
   "mimetype": "text/x-python",
   "name": "python",
   "nbconvert_exporter": "python",
   "pygments_lexer": "ipython3",
   "version": "3.6.6"
  },
  "latex_envs": {
   "LaTeX_envs_menu_present": true,
   "autoclose": false,
   "autocomplete": true,
   "bibliofile": "biblio.bib",
   "cite_by": "apalike",
   "current_citInitial": 1,
   "eqLabelWithNumbers": true,
   "eqNumInitial": 1,
   "hotkeys": {
    "equation": "Ctrl-E",
    "itemize": "Ctrl-I"
   },
   "labels_anchors": false,
   "latex_user_defs": false,
   "report_style_numbering": false,
   "user_envs_cfg": false
  }
 },
 "nbformat": 4,
 "nbformat_minor": 2
}
