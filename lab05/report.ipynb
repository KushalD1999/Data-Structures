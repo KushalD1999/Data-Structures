{
 "cells": [
  {
   "cell_type": "markdown",
   "metadata": {},
   "source": [
    "# CPS305 Fall 2019\n",
    "## Lab $05$ Report\n",
    "## Kushal Dalal\n",
    "\n",
    "08 October 2019\n",
    "\n",
    "# Introduction and Overall Comments\n",
    "\n",
    "This is the submission of Kushal Dalal for Lab 05"
   ]
  },
  {
   "cell_type": "markdown",
   "metadata": {},
   "source": [
    "## Solution for exercise 1"
   ]
  },
  {
   "cell_type": "code",
   "execution_count": 1,
   "metadata": {},
   "outputs": [
    {
     "name": "stdout",
     "output_type": "stream",
     "text": [
      "[17, 203, None, 20, 55, 54, None, None, 93, 26, 44, 77, None, 200, 31, 201, 202]\n",
      "['4', '13', None, '9', '8', '1', None, None, '3', '2', '7', '5', None, '10', '6', '11', '12']\n",
      "5\n",
      "9\n",
      "4\n",
      "duck\n",
      "None\n"
     ]
    }
   ],
   "source": [
    "# Python code and its output\n",
    "from hashing import *"
   ]
  },
  {
   "cell_type": "markdown",
   "metadata": {},
   "source": [
    "**Discussion of the Results**\n",
    "\n",
    "1. Why did you choose a particular resizing method? How much does your table grow at each resize operation?\n",
    "\n",
    "-> I chose the method where it creates two new temporary list for to hold the items of slots and data list. After resizing the slots and data list, I just add back the items from the temporary list. My table grows to the next prime number at each resize operation. So for example, if default size is 11 and the table needed to be resize, the new size of the table would be 13(since 13 is the next prime number after 11)\n",
    "\n",
    "2. What loading factor threshold have used for the resizing the table and why that particular choice?\n",
    "\n",
    "-> I chose the loading factor threshhold of 0.9, So if the load factor (number of element / size of the table) is more than 0.9; my table grows to next prime number. I chose 0.9 because it is the best choice considering the space complexity. If the threshold is smaller then it will allow the table to resize within small intervals."
   ]
  }
 ],
 "metadata": {
  "kernelspec": {
   "display_name": "Python 3",
   "language": "python",
   "name": "python3"
  },
  "language_info": {
   "codemirror_mode": {
    "name": "ipython",
    "version": 3
   },
   "file_extension": ".py",
   "mimetype": "text/x-python",
   "name": "python",
   "nbconvert_exporter": "python",
   "pygments_lexer": "ipython3",
   "version": "3.6.6"
  },
  "latex_envs": {
   "LaTeX_envs_menu_present": true,
   "autoclose": false,
   "autocomplete": true,
   "bibliofile": "biblio.bib",
   "cite_by": "apalike",
   "current_citInitial": 1,
   "eqLabelWithNumbers": true,
   "eqNumInitial": 1,
   "hotkeys": {
    "equation": "Ctrl-E",
    "itemize": "Ctrl-I"
   },
   "labels_anchors": false,
   "latex_user_defs": false,
   "report_style_numbering": false,
   "user_envs_cfg": false
  }
 },
 "nbformat": 4,
 "nbformat_minor": 2
}
